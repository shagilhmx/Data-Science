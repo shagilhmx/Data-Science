{
  "nbformat": 4,
  "nbformat_minor": 0,
  "metadata": {
    "colab": {
      "name": "GRIP.ipynb",
      "provenance": [],
      "collapsed_sections": [],
      "authorship_tag": "ABX9TyN4+yrGt+H7BPeq83/qGKE/",
      "include_colab_link": true
    },
    "kernelspec": {
      "name": "python3",
      "display_name": "Python 3"
    }
  },
  "cells": [
    {
      "cell_type": "markdown",
      "metadata": {
        "id": "view-in-github",
        "colab_type": "text"
      },
      "source": [
        "<a href=\"https://colab.research.google.com/github/shagilhmx/Data-Science/blob/master/GRIP.ipynb\" target=\"_parent\"><img src=\"https://colab.research.google.com/assets/colab-badge.svg\" alt=\"Open In Colab\"/></a>"
      ]
    },
    {
      "cell_type": "markdown",
      "metadata": {
        "id": "xzP0jvc2mRH5",
        "colab_type": "text"
      },
      "source": [
        "<h1><strong>To Explore\n",
        "Supervised Machine Learning Using Linear Regression</h1>"
      ]
    },
    {
      "cell_type": "markdown",
      "metadata": {
        "id": "9DlJ5kPq68zQ",
        "colab_type": "text"
      },
      "source": [
        "**<h3>What is Linear Regression?</h3>**\n",
        "![1_nejpuvlh1MbMGQtve_1ztQ.png](data:image/png;base64,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)"
      ]
    },
    {
      "cell_type": "code",
      "metadata": {
        "id": "Xx8MHmncHmGx",
        "colab_type": "code",
        "colab": {
          "base_uri": "https://localhost:8080/",
          "height": 195
        },
        "outputId": "61863070-f852-4d71-ab39-a4f80654a486"
      },
      "source": [
        "import pandas as pd\n",
        "import requests\n",
        "import io\n",
        "import numpy as np\n",
        "import matplotlib.pyplot as plt\n",
        "\n",
        "#Extracting data from the link\n",
        "page = 'https://raw.githubusercontent.com/AdiPersonalWorks/Random/master/student_scores%20-%20student_scores.csv'\n",
        "data = pd.read_csv(page)\n",
        "data.head()"
      ],
      "execution_count": 23,
      "outputs": [
        {
          "output_type": "execute_result",
          "data": {
            "text/html": [
              "<div>\n",
              "<style scoped>\n",
              "    .dataframe tbody tr th:only-of-type {\n",
              "        vertical-align: middle;\n",
              "    }\n",
              "\n",
              "    .dataframe tbody tr th {\n",
              "        vertical-align: top;\n",
              "    }\n",
              "\n",
              "    .dataframe thead th {\n",
              "        text-align: right;\n",
              "    }\n",
              "</style>\n",
              "<table border=\"1\" class=\"dataframe\">\n",
              "  <thead>\n",
              "    <tr style=\"text-align: right;\">\n",
              "      <th></th>\n",
              "      <th>Hours</th>\n",
              "      <th>Scores</th>\n",
              "    </tr>\n",
              "  </thead>\n",
              "  <tbody>\n",
              "    <tr>\n",
              "      <th>0</th>\n",
              "      <td>2.5</td>\n",
              "      <td>21</td>\n",
              "    </tr>\n",
              "    <tr>\n",
              "      <th>1</th>\n",
              "      <td>5.1</td>\n",
              "      <td>47</td>\n",
              "    </tr>\n",
              "    <tr>\n",
              "      <th>2</th>\n",
              "      <td>3.2</td>\n",
              "      <td>27</td>\n",
              "    </tr>\n",
              "    <tr>\n",
              "      <th>3</th>\n",
              "      <td>8.5</td>\n",
              "      <td>75</td>\n",
              "    </tr>\n",
              "    <tr>\n",
              "      <th>4</th>\n",
              "      <td>3.5</td>\n",
              "      <td>30</td>\n",
              "    </tr>\n",
              "  </tbody>\n",
              "</table>\n",
              "</div>"
            ],
            "text/plain": [
              "   Hours  Scores\n",
              "0    2.5      21\n",
              "1    5.1      47\n",
              "2    3.2      27\n",
              "3    8.5      75\n",
              "4    3.5      30"
            ]
          },
          "metadata": {
            "tags": []
          },
          "execution_count": 23
        }
      ]
    },
    {
      "cell_type": "markdown",
      "metadata": {
        "id": "RQJbisCG4uKt",
        "colab_type": "text"
      },
      "source": [
        "**<h3>Initializing and Visualizing the data</h3>**"
      ]
    },
    {
      "cell_type": "code",
      "metadata": {
        "id": "TAyf5zryh0cC",
        "colab_type": "code",
        "colab": {
          "base_uri": "https://localhost:8080/",
          "height": 279
        },
        "outputId": "70aad22d-903f-4b44-e990-78345f3432ff"
      },
      "source": [
        "train_x = data['Hours'].values\n",
        "train_y = data['Scores'].values\n",
        "\n",
        "plt.scatter(train_x, train_y, color='Blue', label='Data Point')\n",
        "# x-axis label\n",
        "plt.xlabel('Hours')\n",
        "#y-axis label\n",
        "plt.ylabel('Scores')\n",
        "plt.legend()\n",
        "plt.show()"
      ],
      "execution_count": 24,
      "outputs": [
        {
          "output_type": "display_data",
          "data": {
            "image/png": "[encoded data removed]",
            "text/plain": [
              "<Figure size 432x288 with 1 Axes>"
            ]
          },
          "metadata": {
            "tags": [],
            "needs_background": "light"
          }
        }
      ]
    },
    {
      "cell_type": "markdown",
      "metadata": {
        "id": "oxddZBV49uOQ",
        "colab_type": "text"
      },
      "source": [
        "**<h3>We can minimize the error of our linear model by minimizing r thus we have<h3>**"
      ]
    },
    {
      "cell_type": "markdown",
      "metadata": {
        "id": "uq1upJa88zmu",
        "colab_type": "text"
      },
      "source": [
        "![1_O2xXpYS7A3VlLXqT6SNMLg.png](data:image/png;base64,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)"
      ]
    },
    {
      "cell_type": "code",
      "metadata": {
        "id": "7ZlfNeIT4bme",
        "colab_type": "code",
        "colab": {
          "base_uri": "https://localhost:8080/",
          "height": 106
        },
        "outputId": "97ce6fae-fde5-4d72-a7f8-dd697e2a4a30"
      },
      "source": [
        "x_mean = np.mean(train_x)\n",
        "y_mean = np.mean(train_y)\n",
        "\n",
        "n = len(train_x)\n",
        "\n",
        "#formula to calculate the b1 and b0\n",
        "numerator = 0\n",
        "denominator = 0\n",
        "for i in range(n):\n",
        "    numerator += (train_x[i] - x_mean) * (train_y[i] - y_mean)\n",
        "    denominator += (train_x[i] - x_mean) ** 2\n",
        "    \n",
        "b1 = numerator / denominator\n",
        "b0 = y_mean - (b1 * x_mean)\n",
        "#printing the coefficient\n",
        "pd.DataFrame({'bias coefficient':[b0, b1]}).head()\n"
      ],
      "execution_count": 44,
      "outputs": [
        {
          "output_type": "execute_result",
          "data": {
            "text/html": [
              "<div>\n",
              "<style scoped>\n",
              "    .dataframe tbody tr th:only-of-type {\n",
              "        vertical-align: middle;\n",
              "    }\n",
              "\n",
              "    .dataframe tbody tr th {\n",
              "        vertical-align: top;\n",
              "    }\n",
              "\n",
              "    .dataframe thead th {\n",
              "        text-align: right;\n",
              "    }\n",
              "</style>\n",
              "<table border=\"1\" class=\"dataframe\">\n",
              "  <thead>\n",
              "    <tr style=\"text-align: right;\">\n",
              "      <th></th>\n",
              "      <th>bias coefficient</th>\n",
              "    </tr>\n",
              "  </thead>\n",
              "  <tbody>\n",
              "    <tr>\n",
              "      <th>0</th>\n",
              "      <td>2.483673</td>\n",
              "    </tr>\n",
              "    <tr>\n",
              "      <th>1</th>\n",
              "      <td>9.775803</td>\n",
              "    </tr>\n",
              "  </tbody>\n",
              "</table>\n",
              "</div>"
            ],
            "text/plain": [
              "   bias coefficient\n",
              "0          2.483673\n",
              "1          9.775803"
            ]
          },
          "metadata": {
            "tags": []
          },
          "execution_count": 44
        }
      ]
    },
    {
      "cell_type": "code",
      "metadata": {
        "id": "2eG5vpUWl5X2",
        "colab_type": "code",
        "colab": {
          "base_uri": "https://localhost:8080/",
          "height": 279
        },
        "outputId": "99d63547-a363-469c-d441-723a064a1894"
      },
      "source": [
        "#plotting values \n",
        "x_max = np.max(train_x)\n",
        "x_min = np.min(train_x)\n",
        "\n",
        "#calculating line values of x and y\n",
        "x = np.linspace(x_min, x_max, 1000)\n",
        "y = b0 + b1 * x\n",
        "\n",
        "#plotting line \n",
        "plt.plot(x, y, color='Red', label='Linear Regression')\n",
        "#plot the data point\n",
        "plt.scatter(train_x, train_y, color='Blue', label='Data Point')\n",
        "# x-axis label\n",
        "plt.xlabel('Hours')\n",
        "#y-axis label\n",
        "plt.ylabel('Scores')\n",
        "plt.legend()\n",
        "plt.show()"
      ],
      "execution_count": 39,
      "outputs": [
        {
          "output_type": "display_data",
          "data": {
            "image/png": "[encoded data removed]",
            "text/plain": [
              "<Figure size 432x288 with 1 Axes>"
            ]
          },
          "metadata": {
            "tags": [],
            "needs_background": "light"
          }
        }
      ]
    },
    {
      "cell_type": "markdown",
      "metadata": {
        "id": "hYtPmSVyC2yk",
        "colab_type": "text"
      },
      "source": [
        "**<h3>Root mean squared error and coefficient of Determination (R² Score).</h3>**\n",
        "![1_SGBsn7WytmYYbuTgDatIpw.gif](data:image/gif;base64,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)"
      ]
    },
    {
      "cell_type": "code",
      "metadata": {
        "id": "1_kA8erZsDvl",
        "colab_type": "code",
        "colab": {
          "base_uri": "https://localhost:8080/",
          "height": 34
        },
        "outputId": "4784a79b-d3e0-41aa-a42b-0597ee822b7c"
      },
      "source": [
        "#we would implement Root mean squared error and coefficient of Determination (R² Score)\n",
        "rmse = 0\n",
        "for i in range(n):\n",
        "    y_pred=  b0 + b1* train_x[i]\n",
        "    rmse += (train_y[i] - y_pred) ** 2\n",
        "    \n",
        "rmse = np.sqrt(rmse/n)\n",
        "print('\\033[1m','Root mean square error: ',rmse)"
      ],
      "execution_count": 62,
      "outputs": [
        {
          "output_type": "stream",
          "text": [
            "\u001b[1m Root mean square error:  5.374265578592621\n"
          ],
          "name": "stdout"
        }
      ]
    },
    {
      "cell_type": "markdown",
      "metadata": {
        "id": "YnCGhQKoDi5u",
        "colab_type": "text"
      },
      "source": [
        "**<h3>R² Score usually ranges from 0 to 1. It will also become negative if the model is completely wrong. Now we will find the R² Score</h3>**\n"
      ]
    },
    {
      "cell_type": "markdown",
      "metadata": {
        "id": "wOZeOR9iER2y",
        "colab_type": "text"
      },
      "source": [
        "**<h3>Making Prediction</h3>**"
      ]
    },
    {
      "cell_type": "code",
      "metadata": {
        "id": "GOQNhQM3DfBo",
        "colab_type": "code",
        "colab": {
          "base_uri": "https://localhost:8080/",
          "height": 34
        },
        "outputId": "51913996-bb12-4c89-d469-b93aff7ed52b"
      },
      "source": [
        "sumofsquares = 0\n",
        "sumofresiduals = 0\n",
        "for i in range(n) :\n",
        "    y_pred = b0 + b1 * train_x[i]\n",
        "    sumofsquares += (train_y[i] - y_mean) ** 2\n",
        "    sumofresiduals += (train_y[i] - y_pred) **2\n",
        "\n",
        "prediction = b0 + b1*9.25\n",
        "print('\\033[1m','Prediction for 9.25 hours: ',prediction)"
      ],
      "execution_count": 51,
      "outputs": [
        {
          "output_type": "stream",
          "text": [
            "\u001b[1m Prediction for 9.25 hours:  92.90985477015732\n"
          ],
          "name": "stdout"
        }
      ]
    },
    {
      "cell_type": "markdown",
      "metadata": {
        "id": "HOgIPpFTEy6B",
        "colab_type": "text"
      },
      "source": [
        "**<h3>Model Accuracy</h3>**"
      ]
    },
    {
      "cell_type": "code",
      "metadata": {
        "id": "D6u7-J58FJ-z",
        "colab_type": "code",
        "colab": {
          "base_uri": "https://localhost:8080/",
          "height": 34
        },
        "outputId": "75785f44-fc3b-4e68-fdca-8f531333db8b"
      },
      "source": [
        "score  = 1 - (sumofresiduals/sumofsquares)\n",
        "print('\\033[1m','Accuracy: ',score*100)"
      ],
      "execution_count": 52,
      "outputs": [
        {
          "output_type": "stream",
          "text": [
            "\u001b[1m Accuracy:  95.29481969048355\n"
          ],
          "name": "stdout"
        }
      ]
    }
  ]
}